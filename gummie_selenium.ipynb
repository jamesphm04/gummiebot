{
 "cells": [
  {
   "cell_type": "code",
   "execution_count": 2,
   "metadata": {},
   "outputs": [
    {
     "name": "stdout",
     "output_type": "stream",
     "text": [
      "{'domain': '.gumtree.com.au', 'expiry': 1720833061, 'httpOnly': False, 'name': 'aam_uuid', 'path': '/', 'sameSite': 'Lax', 'secure': False, 'value': '28352762311384938714502709350013748961'}\n",
      "{'domain': '.gumtree.com.au', 'expiry': 1720833061, 'httpOnly': False, 'name': 'aam_tnt', 'path': '/', 'sameSite': 'Lax', 'secure': False, 'value': 'aamsegid%3D6797281%2Caamsegid%3D6880889'}\n",
      "{'domain': 'www.gumtree.com.au', 'expiry': 1720833061, 'httpOnly': False, 'name': '_lr_env_src_ats', 'path': '/', 'sameSite': 'Lax', 'secure': False, 'value': 'false'}\n",
      "{'domain': '.gumtree.com.au', 'expiry': 1752405060, 'httpOnly': False, 'name': 'cto_bundle', 'path': '/', 'sameSite': 'Lax', 'secure': False, 'value': 'e0kVBF9jWW80NFJDd3BpdVFjUUdleXVVaEkxWmVTYWpRY3NOcWtvOTRPTW5iMEVJWFQyUUVESiUyQnJZS3IlMkJZU00wUmlOU3hMekNZS3VibjRGV1NzeGF0TzhQakRmYkhMOXdTQkxUZGczVVlnRGVJY3pUMDcxdFR6SVo3Y1VMRldWblU0WEMlMkJobTVuQmRrMTJpVGtpVVNQJTJGTmI2USUzRCUzRA'}\n",
      "{'domain': '.gumtree.com.au', 'expiry': 1751937058, 'httpOnly': False, 'name': '__gads', 'path': '/', 'sameSite': 'Lax', 'secure': False, 'value': 'ID=bf07e70b41012cb8:T=1718241058:RT=1718241058:S=ALNI_MYF79zf4aoXLo-YtIfH7QNnfdZ2BA'}\n",
      "{'domain': '.gumtree.com.au', 'expiry': 1752801057, 'httpOnly': False, 'name': '_ga', 'path': '/', 'sameSite': 'Lax', 'secure': False, 'value': 'GA1.1.1366062420.1718241057'}\n",
      "{'domain': '.gumtree.com.au', 'expiry': 1726017057, 'httpOnly': False, 'name': '_fbp', 'path': '/', 'sameSite': 'Lax', 'secure': False, 'value': 'fb.2.1718241057629.728744038491911935'}\n",
      "{'domain': 'www.gumtree.com.au', 'expiry': 1718244661, 'httpOnly': False, 'name': '_lr_retry_request', 'path': '/', 'sameSite': 'Lax', 'secure': False, 'value': 'true'}\n",
      "{'domain': '.gumtree.com.au', 'expiry': 1718327457, 'httpOnly': False, 'name': '_uetsid', 'path': '/', 'sameSite': 'Lax', 'secure': False, 'value': 'ca11a110292111efae6809aff1d421d2'}\n",
      "{'domain': 'www.gumtree.com.au', 'expiry': 1749811257, 'httpOnly': False, 'name': '__rtbh.lid', 'path': '/', 'sameSite': 'Lax', 'secure': False, 'value': '%7B%22eventType%22%3A%22lid%22%2C%22id%22%3A%22XanGcd4F6nOj5yaptfP4%22%7D'}\n",
      "{'domain': 'www.gumtree.com.au', 'expiry': 1749811257, 'httpOnly': False, 'name': '__rtbh.uid', 'path': '/', 'sameSite': 'Lax', 'secure': False, 'value': '%7B%22eventType%22%3A%22uid%22%2C%22id%22%3A%22undefined%22%7D'}\n",
      "{'domain': '.gumtree.com.au', 'expiry': 1718242856, 'httpOnly': False, 'name': '__utmb', 'path': '/', 'sameSite': 'Lax', 'secure': False, 'value': '160852194.1.10.1718241057'}\n",
      "{'domain': '.gumtree.com.au', 'expiry': 1752801056, 'httpOnly': False, 'name': '__utma', 'path': '/', 'sameSite': 'Lax', 'secure': False, 'value': '160852194.1424374198.1718241057.1718241057.1718241057.1'}\n",
      "{'domain': '.gumtree.com.au', 'expiry': 1751937057, 'httpOnly': False, 'name': '_uetvid', 'path': '/', 'sameSite': 'Lax', 'secure': False, 'value': 'ca11df20292111ef942f11015e2f0340'}\n",
      "{'domain': '.gumtree.com.au', 'expiry': 1718241656, 'httpOnly': False, 'name': '__utmt_siteTracker', 'path': '/', 'sameSite': 'Lax', 'secure': False, 'value': '1'}\n",
      "{'domain': '.gumtree.com.au', 'expiry': 1752801057, 'httpOnly': False, 'name': 'AMCV_50BE5F5858D2477A0A495C7F%40AdobeOrg', 'path': '/', 'sameSite': 'Lax', 'secure': False, 'value': '-408604571%7CMCIDTS%7C19888%7CMCMID%7C28752738041253668694522525192682531099%7CMCAAMLH-1718845857%7C8%7CMCAAMB-1718845857%7CRKhpRz8krg2tLO6pguXWp5olkAcUniQYPHaMWWgdJ3xzPWQmdj0y%7CMCOPTOUT-1718248257s%7CNONE%7CMCAID%7CNONE%7CMCSYNCSOP%7C411-19895%7CvVersion%7C4.6.0'}\n",
      "{'domain': '.gumtree.com.au', 'expiry': 1720833061, 'httpOnly': False, 'name': 'aam_dfp', 'path': '/', 'sameSite': 'Lax', 'secure': False, 'value': 'aamsegid%3D6797281%2C6880889'}\n",
      "{'domain': '.gumtree.com.au', 'expiry': 1733793058, 'httpOnly': False, 'name': '__eoi', 'path': '/', 'sameSite': 'Lax', 'secure': False, 'value': 'ID=282d9f77016afe7b:T=1718241058:RT=1718241058:S=AA-AfjZ1uHFvsMno9Sd8nHJkf3Id'}\n",
      "{'domain': '.gumtree.com.au', 'expiry': 1726017056, 'httpOnly': False, 'name': '_gcl_au', 'path': '/', 'sameSite': 'Lax', 'secure': False, 'value': '1.1.1851953842.1718241057'}\n",
      "{'domain': '.gumtree.com.au', 'expiry': 1751937058, 'httpOnly': False, 'name': '__gpi', 'path': '/', 'sameSite': 'Lax', 'secure': False, 'value': 'UID=00000e4905bcc64d:T=1718241058:RT=1718241058:S=ALNI_MYNPE2-KfVl9J8aCJosdWM5m4QZJw'}\n",
      "{'domain': '.gumtree.com.au', 'expiry': 1752801057, 'httpOnly': False, 'name': 's_ecid', 'path': '/', 'sameSite': 'Lax', 'secure': False, 'value': 'MCMID%7C28752738041253668694522525192682531099'}\n",
      "{'domain': '.gumtree.com.au', 'expiry': 1752801061, 'httpOnly': False, 'name': '_ga_TC0NXL1S6B', 'path': '/', 'sameSite': 'Lax', 'secure': False, 'value': 'GS1.1.1718241057.1.0.1718241061.0.0.0'}\n",
      "{'domain': '.gumtree.com.au', 'expiry': 1733793054, 'httpOnly': False, 'name': 'up', 'path': '/', 'sameSite': 'Lax', 'secure': True, 'value': '%7B%22ls%22%3A%22l%3D0%26r%3D0%26sv%3DLIST%26sf%3Ddate%22%7D'}\n",
      "{'domain': '.gumtree.com.au', 'expiry': 1734009056, 'httpOnly': False, 'name': '__utmz', 'path': '/', 'sameSite': 'Lax', 'secure': False, 'value': '160852194.1718241057.1.1.utmcsr=(direct)|utmccn=(direct)|utmcmd=(none)'}\n",
      "{'domain': '.gumtree.com.au', 'httpOnly': False, 'name': 'ftv', 'path': '/', 'sameSite': 'Lax', 'secure': False, 'value': 'true'}\n",
      "{'domain': '.gumtree.com.au', 'expiry': 1733793056, 'httpOnly': False, 'name': 'optimizelyEndUserId', 'path': '/', 'sameSite': 'Lax', 'secure': False, 'value': 'oeu1718241056117r0.6752665756339944'}\n",
      "{'domain': '.gumtree.com.au', 'httpOnly': False, 'name': 'bs', 'path': '/', 'sameSite': 'Lax', 'secure': True, 'value': '%7B%22st%22%3A%7B%7D%7D'}\n",
      "{'domain': 'www.gumtree.com.au', 'expiry': 1720833056, 'httpOnly': False, 'name': '_pbjs_userid_consent_data', 'path': '/', 'sameSite': 'Lax', 'secure': False, 'value': '3524755945110770'}\n",
      "{'domain': 'www.gumtree.com.au', 'expiry': 1718242861, 'httpOnly': False, 'name': 'PEAKHOUR_VISIT', 'path': '/', 'sameSite': 'Lax', 'secure': True, 'value': '666a471ee5716b0c000004bfe7ef9207'}\n",
      "{'domain': '.gumtree.com.au', 'expiry': 1733793057, 'httpOnly': False, 'name': 'nol_fpid', 'path': '/', 'sameSite': 'Lax', 'secure': False, 'value': '7gzhknvhhow6hw0xtafvrzhp1iksx1718241057|1718241057466|1718241057466|1718241057466'}\n",
      "{'domain': '.gumtree.com.au', 'httpOnly': False, 'name': '__utmc', 'path': '/', 'sameSite': 'Lax', 'secure': False, 'value': '160852194'}\n",
      "{'domain': '.gumtree.com.au', 'httpOnly': False, 'name': 'AMCVS_50BE5F5858D2477A0A495C7F%40AdobeOrg', 'path': '/', 'sameSite': 'Lax', 'secure': False, 'value': '1'}\n",
      "{'domain': '.gumtree.com.au', 'expiry': 1752801054, 'httpOnly': False, 'name': 'machId', 'path': '/', 'sameSite': 'Lax', 'secure': True, 'value': 'H1OzI5AYEYl0Qn8m7k5sqlL6mXa0HKasET7IG5NEpTd5rUsyxD8eDYUx5r6nsg1mhEVZfk6cV1WhyWrmEs1WnIhAz64Uijk_AHM'}\n"
     ]
    }
   ],
   "source": [
    "from helpers.scraper import Scraper\n",
    "from helpers.csv_helper import get_data_from_csv\n",
    "from helpers.listing_helper import update_listings\n",
    "\n",
    "scraper = Scraper('https://www.gumtree.com.au')\n",
    "\n",
    "# Add login functionality to the scraper\n",
    "scraper.add_login_functionality('https://www.gumtree.com.au/t-login-form.html', 'span.header__my-gumtree-trigger-text', 'gumtree')\n",
    "scraper.go_to_page('https://www.gumtree.com.au/web/syi')\n",
    "\n",
    "# Get data for item type listings from csvs/items.csv\n",
    "# item_listings = get_data_from_csv('items')\n",
    "# # Publish all of the items into the facebook marketplace\n",
    "# update_listings(item_listings, 'item', scraper)"
   ]
  },
  {
   "cell_type": "code",
   "execution_count": null,
   "metadata": {},
   "outputs": [],
   "source": []
  }
 ],
 "metadata": {
  "kernelspec": {
   "display_name": ".venv",
   "language": "python",
   "name": "python3"
  },
  "language_info": {
   "codemirror_mode": {
    "name": "ipython",
    "version": 3
   },
   "file_extension": ".py",
   "mimetype": "text/x-python",
   "name": "python",
   "nbconvert_exporter": "python",
   "pygments_lexer": "ipython3",
   "version": "3.10.12"
  }
 },
 "nbformat": 4,
 "nbformat_minor": 2
}
