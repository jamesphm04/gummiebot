{
 "cells": [
  {
   "cell_type": "code",
   "execution_count": 1,
   "metadata": {},
   "outputs": [],
   "source": [
    "from helpers.scraper import Scraper\n",
    "from helpers.csv_helper import get_data_from_csv\n",
    "from helpers.listing_helper import update_listings\n",
    "\n",
    "scraper = Scraper('https://www.gumtree.com.au')\n",
    "\n",
    "# Add login functionality to the scraper\n",
    "scraper.add_login_functionality('https://www.gumtree.com.au/t-login-form.html', 'span.header__my-gumtree-trigger-text')\n",
    "scraper.go_to_page('https://www.gumtree.com.au/web/syi')\n",
    "\n",
    "# Get data for item type listings from csvs/items.csv\n",
    "item_listings = get_data_from_csv('items')\n",
    "# # Publish all of the items into the facebook marketplace\n",
    "update_listings(item_listings, 'item', scraper)"
   ]
  }
 ],
 "metadata": {
  "kernelspec": {
   "display_name": ".venv",
   "language": "python",
   "name": "python3"
  },
  "language_info": {
   "codemirror_mode": {
    "name": "ipython",
    "version": 3
   },
   "file_extension": ".py",
   "mimetype": "text/x-python",
   "name": "python",
   "nbconvert_exporter": "python",
   "pygments_lexer": "ipython3",
   "version": "3.10.12"
  }
 },
 "nbformat": 4,
 "nbformat_minor": 2
}
