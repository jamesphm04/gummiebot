{
 "cells": [
  {
   "cell_type": "code",
   "execution_count": 1,
   "metadata": {},
   "outputs": [],
   "source": [
    "import os "
   ]
  },
  {
   "cell_type": "code",
   "execution_count": 6,
   "metadata": {},
   "outputs": [
    {
     "data": {
      "text/plain": [
       "['4',\n",
       " '9',\n",
       " '7',\n",
       " '11',\n",
       " '13',\n",
       " '15',\n",
       " '18',\n",
       " '17',\n",
       " '10',\n",
       " '12',\n",
       " '16',\n",
       " '2',\n",
       " '1',\n",
       " '5',\n",
       " '19',\n",
       " '3',\n",
       " '8',\n",
       " '20',\n",
       " '6',\n",
       " '14']"
      ]
     },
     "execution_count": 6,
     "metadata": {},
     "output_type": "execute_result"
    }
   ],
   "source": [
    "item_directory = './items'\n",
    "directories = [name for name in os.listdir(item_directory) if os.path.isdir(os.path.join(item_directory, name))]\n",
    "directories"
   ]
  },
  {
   "cell_type": "code",
   "execution_count": 4,
   "metadata": {},
   "outputs": [
    {
     "data": {
      "text/plain": [
       "'/media/james/2b44c141-eec6-4c63-a888-30e9ac5660bd/git/gummiebot'"
      ]
     },
     "execution_count": 4,
     "metadata": {},
     "output_type": "execute_result"
    }
   ],
   "source": [
    "owd = os.getcwd()\n",
    "owd"
   ]
  },
  {
   "cell_type": "code",
   "execution_count": 3,
   "metadata": {},
   "outputs": [
    {
     "data": {
      "text/plain": [
       "['4',\n",
       " '9',\n",
       " '7',\n",
       " '11',\n",
       " '13',\n",
       " '15',\n",
       " '18',\n",
       " '17',\n",
       " '10',\n",
       " '12',\n",
       " '16',\n",
       " '2',\n",
       " '1',\n",
       " '5',\n",
       " '19',\n",
       " '3',\n",
       " '8',\n",
       " '20',\n",
       " '6',\n",
       " '14']"
      ]
     },
     "execution_count": 3,
     "metadata": {},
     "output_type": "execute_result"
    }
   ],
   "source": [
    "directories"
   ]
  },
  {
   "cell_type": "code",
   "execution_count": null,
   "metadata": {},
   "outputs": [],
   "source": []
  }
 ],
 "metadata": {
  "kernelspec": {
   "display_name": ".venv",
   "language": "python",
   "name": "python3"
  },
  "language_info": {
   "codemirror_mode": {
    "name": "ipython",
    "version": 3
   },
   "file_extension": ".py",
   "mimetype": "text/x-python",
   "name": "python",
   "nbconvert_exporter": "python",
   "pygments_lexer": "ipython3",
   "version": "3.10.12"
  }
 },
 "nbformat": 4,
 "nbformat_minor": 2
}
